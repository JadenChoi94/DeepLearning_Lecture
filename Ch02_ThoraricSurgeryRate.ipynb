{
 "cells": [
  {
   "cell_type": "markdown",
   "metadata": {},
   "source": [
    "# 폐암 수술 환자의 생존율 데이터 분석"
   ]
  },
  {
   "cell_type": "markdown",
   "metadata": {},
   "source": [
    "- pip install \n",
    "- pip install tensorflow\n",
    "- pip install keras"
   ]
  },
  {
   "cell_type": "code",
   "execution_count": 23,
   "metadata": {},
   "outputs": [],
   "source": [
    "# 필요한 라이브러리를 불러옵니다.\n",
    "import numpy as np\n",
    "import tensorflow as tf\n",
    "#툴툴거림방지\n",
    "if type(tf.contrib) != type(tf):\n",
    "    tf.contrib._warning = None"
   ]
  },
  {
   "cell_type": "code",
   "execution_count": 8,
   "metadata": {},
   "outputs": [
    {
     "name": "stdout",
     "output_type": "stream",
     "text": [
      "1.14.0\n"
     ]
    }
   ],
   "source": [
    "print(tf.__version__)"
   ]
  },
  {
   "cell_type": "code",
   "execution_count": 9,
   "metadata": {},
   "outputs": [],
   "source": [
    "# 딥러닝을 구동하는 데 필요한 케라스 함수를 불러옵니다.\n",
    "from keras.models import Sequential\n",
    "from keras.layers import Dense"
   ]
  },
  {
   "cell_type": "code",
   "execution_count": 11,
   "metadata": {},
   "outputs": [],
   "source": [
    "# 실행할 때마다 같은 결과를 출력하기 위해 설정하는 부분입니다.\n",
    "seed = 0\n",
    "np.random.seed(seed)\n",
    "tf.set_random_seed(seed)"
   ]
  },
  {
   "cell_type": "code",
   "execution_count": 17,
   "metadata": {},
   "outputs": [],
   "source": [
    "# 준비된 수술 환자 데이터를 불러들입니다.\n",
    "Data_set = np.loadtxt('deeplearning/dataset/ThoraricSurgery.csv', delimiter=',')"
   ]
  },
  {
   "cell_type": "code",
   "execution_count": 18,
   "metadata": {},
   "outputs": [],
   "source": [
    "# 환자의 기록과 수술 결과를 X와 Y로 구분하여 저장합니다.\n",
    "X = Data_set[:,0:17]\n",
    "Y = Data_set[:,17]"
   ]
  },
  {
   "cell_type": "code",
   "execution_count": 24,
   "metadata": {},
   "outputs": [],
   "source": [
    "# 딥러닝 구조를 결정합니다(모델을 설정하고 실행하는 부분입니다).\n",
    "model = Sequential()\n",
    "model.add(Dense(30, input_dim=17, activation='relu'))\n",
    "model.add(Dense(1, activation='sigmoid'))"
   ]
  },
  {
   "cell_type": "code",
   "execution_count": 25,
   "metadata": {
    "scrolled": true
   },
   "outputs": [
    {
     "name": "stdout",
     "output_type": "stream",
     "text": [
      "Epoch 1/30\n",
      "470/470 [==============================] - 0s 274us/step - loss: 0.1489 - acc: 0.8511\n",
      "Epoch 2/30\n",
      "470/470 [==============================] - 0s 51us/step - loss: 0.1489 - acc: 0.8511\n",
      "Epoch 3/30\n",
      "470/470 [==============================] - 0s 60us/step - loss: 0.1490 - acc: 0.8511\n",
      "Epoch 4/30\n",
      "470/470 [==============================] - 0s 49us/step - loss: 0.1489 - acc: 0.8511\n",
      "Epoch 5/30\n",
      "470/470 [==============================] - 0s 51us/step - loss: 0.1489 - acc: 0.8511\n",
      "Epoch 6/30\n",
      "470/470 [==============================] - 0s 51us/step - loss: 0.1489 - acc: 0.8511\n",
      "Epoch 7/30\n",
      "470/470 [==============================] - 0s 53us/step - loss: 0.1489 - acc: 0.8511\n",
      "Epoch 8/30\n",
      "470/470 [==============================] - 0s 51us/step - loss: 0.1489 - acc: 0.8511\n",
      "Epoch 9/30\n",
      "470/470 [==============================] - 0s 51us/step - loss: 0.1490 - acc: 0.8511\n",
      "Epoch 10/30\n",
      "470/470 [==============================] - 0s 53us/step - loss: 0.1489 - acc: 0.8511\n",
      "Epoch 11/30\n",
      "470/470 [==============================] - 0s 55us/step - loss: 0.1489 - acc: 0.8511\n",
      "Epoch 12/30\n",
      "470/470 [==============================] - 0s 51us/step - loss: 0.1489 - acc: 0.8511\n",
      "Epoch 13/30\n",
      "470/470 [==============================] - 0s 51us/step - loss: 0.1489 - acc: 0.8511\n",
      "Epoch 14/30\n",
      "470/470 [==============================] - 0s 53us/step - loss: 0.1489 - acc: 0.8511\n",
      "Epoch 15/30\n",
      "470/470 [==============================] - 0s 53us/step - loss: 0.1489 - acc: 0.8511\n",
      "Epoch 16/30\n",
      "470/470 [==============================] - 0s 53us/step - loss: 0.1489 - acc: 0.8511\n",
      "Epoch 17/30\n",
      "470/470 [==============================] - 0s 53us/step - loss: 0.1489 - acc: 0.8511\n",
      "Epoch 18/30\n",
      "470/470 [==============================] - 0s 53us/step - loss: 0.1489 - acc: 0.8511\n",
      "Epoch 19/30\n",
      "470/470 [==============================] - 0s 53us/step - loss: 0.1489 - acc: 0.8511\n",
      "Epoch 20/30\n",
      "470/470 [==============================] - 0s 51us/step - loss: 0.1489 - acc: 0.8511\n",
      "Epoch 21/30\n",
      "470/470 [==============================] - 0s 53us/step - loss: 0.1489 - acc: 0.8511\n",
      "Epoch 22/30\n",
      "470/470 [==============================] - 0s 49us/step - loss: 0.1489 - acc: 0.8511\n",
      "Epoch 23/30\n",
      "470/470 [==============================] - 0s 51us/step - loss: 0.1489 - acc: 0.8511\n",
      "Epoch 24/30\n",
      "470/470 [==============================] - 0s 51us/step - loss: 0.1489 - acc: 0.8511\n",
      "Epoch 25/30\n",
      "470/470 [==============================] - 0s 53us/step - loss: 0.1489 - acc: 0.8511\n",
      "Epoch 26/30\n",
      "470/470 [==============================] - 0s 53us/step - loss: 0.1489 - acc: 0.8511\n",
      "Epoch 27/30\n",
      "470/470 [==============================] - 0s 53us/step - loss: 0.1489 - acc: 0.8511\n",
      "Epoch 28/30\n",
      "470/470 [==============================] - 0s 53us/step - loss: 0.1489 - acc: 0.8511\n",
      "Epoch 29/30\n",
      "470/470 [==============================] - 0s 53us/step - loss: 0.1489 - acc: 0.8511\n",
      "Epoch 30/30\n",
      "470/470 [==============================] - 0s 55us/step - loss: 0.1489 - acc: 0.8511\n"
     ]
    },
    {
     "data": {
      "text/plain": [
       "<keras.callbacks.History at 0x75b1f60>"
      ]
     },
     "execution_count": 25,
     "metadata": {},
     "output_type": "execute_result"
    }
   ],
   "source": [
    "# 딥러닝을 실행합니다.\n",
    "model.compile(loss='mean_squared_error', optimizer='adam', metrics=['accuracy'])\n",
    "model.fit(X, Y, epochs=30, batch_size=10)"
   ]
  },
  {
   "cell_type": "code",
   "execution_count": 26,
   "metadata": {},
   "outputs": [
    {
     "name": "stdout",
     "output_type": "stream",
     "text": [
      "470/470 [==============================] - 0s 57us/step\n",
      "\n",
      " Accuracy: 0.8511\n"
     ]
    }
   ],
   "source": [
    "# 결과를 출력합니다.\n",
    "print(\"\\n Accuracy: %.4f\" % (model.evaluate(X, Y)[1]))"
   ]
  },
  {
   "cell_type": "code",
   "execution_count": null,
   "metadata": {},
   "outputs": [],
   "source": []
  }
 ],
 "metadata": {
  "kernelspec": {
   "display_name": "Python 3",
   "language": "python",
   "name": "python3"
  },
  "language_info": {
   "codemirror_mode": {
    "name": "ipython",
    "version": 3
   },
   "file_extension": ".py",
   "mimetype": "text/x-python",
   "name": "python",
   "nbconvert_exporter": "python",
   "pygments_lexer": "ipython3",
   "version": "3.7.3"
  }
 },
 "nbformat": 4,
 "nbformat_minor": 2
}
