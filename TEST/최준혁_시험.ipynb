{
 "cells": [
  {
   "cell_type": "markdown",
   "metadata": {},
   "source": [
    "# 1번"
   ]
  },
  {
   "cell_type": "code",
   "execution_count": 1,
   "metadata": {},
   "outputs": [],
   "source": [
    "import numpy as np"
   ]
  },
  {
   "cell_type": "code",
   "execution_count": 6,
   "metadata": {},
   "outputs": [
    {
     "data": {
      "text/plain": [
       "array([0. , 0.5, 1. , 1.5, 2. , 2.5, 3. , 3.5, 4. , 4.5])"
      ]
     },
     "execution_count": 6,
     "metadata": {},
     "output_type": "execute_result"
    }
   ],
   "source": [
    "np.arange(0, 5, 0.5)"
   ]
  },
  {
   "cell_type": "code",
   "execution_count": 8,
   "metadata": {},
   "outputs": [
    {
     "data": {
      "text/plain": [
       "array([ 1,  2,  3,  4,  5,  6,  7,  8,  9, 10])"
      ]
     },
     "execution_count": 8,
     "metadata": {},
     "output_type": "execute_result"
    }
   ],
   "source": [
    "np.arange(1, 11, 1)"
   ]
  },
  {
   "cell_type": "code",
   "execution_count": 15,
   "metadata": {},
   "outputs": [
    {
     "data": {
      "text/plain": [
       "array([[1, 0, 0],\n",
       "       [0, 1, 0],\n",
       "       [0, 0, 1]], dtype=int64)"
      ]
     },
     "execution_count": 15,
     "metadata": {},
     "output_type": "execute_result"
    }
   ],
   "source": [
    "np.identity((3),dtype=\"i8\")"
   ]
  },
  {
   "cell_type": "code",
   "execution_count": 12,
   "metadata": {},
   "outputs": [
    {
     "data": {
      "text/plain": [
       "array([[[1, 1, 1, 1],\n",
       "        [1, 1, 1, 1],\n",
       "        [1, 1, 1, 1],\n",
       "        [1, 1, 1, 1]]], dtype=int64)"
      ]
     },
     "execution_count": 12,
     "metadata": {},
     "output_type": "execute_result"
    }
   ],
   "source": [
    "np.ones((1, 4, 4), dtype=\"i8\")"
   ]
  },
  {
   "cell_type": "code",
   "execution_count": 17,
   "metadata": {},
   "outputs": [
    {
     "data": {
      "text/plain": [
       "array([[ 1,  3,  5,  7],\n",
       "       [ 9, 11, 13, 15],\n",
       "       [17, 19, 21, 23]])"
      ]
     },
     "execution_count": 17,
     "metadata": {},
     "output_type": "execute_result"
    }
   ],
   "source": [
    "np.arange(1, 24, 2).reshape(3,4)"
   ]
  },
  {
   "cell_type": "markdown",
   "metadata": {},
   "source": [
    "# 2번"
   ]
  },
  {
   "cell_type": "code",
   "execution_count": 23,
   "metadata": {},
   "outputs": [
    {
     "data": {
      "text/html": [
       "<div>\n",
       "<style scoped>\n",
       "    .dataframe tbody tr th:only-of-type {\n",
       "        vertical-align: middle;\n",
       "    }\n",
       "\n",
       "    .dataframe tbody tr th {\n",
       "        vertical-align: top;\n",
       "    }\n",
       "\n",
       "    .dataframe thead th {\n",
       "        text-align: right;\n",
       "    }\n",
       "</style>\n",
       "<table border=\"1\" class=\"dataframe\">\n",
       "  <thead>\n",
       "    <tr style=\"text-align: right;\">\n",
       "      <th></th>\n",
       "      <th>지역</th>\n",
       "      <th>2015</th>\n",
       "      <th>2010</th>\n",
       "      <th>2005</th>\n",
       "      <th>2000</th>\n",
       "      <th>2010-2015 증가율</th>\n",
       "    </tr>\n",
       "  </thead>\n",
       "  <tbody>\n",
       "    <tr>\n",
       "      <th>서울</th>\n",
       "      <td>수도권</td>\n",
       "      <td>9904312</td>\n",
       "      <td>9631482</td>\n",
       "      <td>9762546</td>\n",
       "      <td>9853972</td>\n",
       "      <td>2.83</td>\n",
       "    </tr>\n",
       "    <tr>\n",
       "      <th>부산</th>\n",
       "      <td>경상권</td>\n",
       "      <td>3448737</td>\n",
       "      <td>3393191</td>\n",
       "      <td>3512547</td>\n",
       "      <td>3655437</td>\n",
       "      <td>1.64</td>\n",
       "    </tr>\n",
       "    <tr>\n",
       "      <th>인천</th>\n",
       "      <td>수도권</td>\n",
       "      <td>2890451</td>\n",
       "      <td>2632035</td>\n",
       "      <td>2517680</td>\n",
       "      <td>2466338</td>\n",
       "      <td>9.82</td>\n",
       "    </tr>\n",
       "    <tr>\n",
       "      <th>대구</th>\n",
       "      <td>경상권</td>\n",
       "      <td>2466052</td>\n",
       "      <td>2431774</td>\n",
       "      <td>2456016</td>\n",
       "      <td>2473990</td>\n",
       "      <td>1.41</td>\n",
       "    </tr>\n",
       "  </tbody>\n",
       "</table>\n",
       "</div>"
      ],
      "text/plain": [
       "     지역     2015     2010     2005     2000  2010-2015 증가율\n",
       "서울  수도권  9904312  9631482  9762546  9853972           2.83\n",
       "부산  경상권  3448737  3393191  3512547  3655437           1.64\n",
       "인천  수도권  2890451  2632035  2517680  2466338           9.82\n",
       "대구  경상권  2466052  2431774  2456016  2473990           1.41"
      ]
     },
     "execution_count": 23,
     "metadata": {},
     "output_type": "execute_result"
    }
   ],
   "source": [
    "import pandas as pd\n",
    "\n",
    "data = {\n",
    "    \"2015\": [9904312, 3448737, 2890451, 2466052],\n",
    "    \"2010\": [9631482, 3393191, 2632035, 2431774],\n",
    "    \"2005\": [9762546, 3512547, 2517680, 2456016],\n",
    "    \"2000\": [9853972, 3655437, 2466338, 2473990],\n",
    "    \"지역\": [\"수도권\", \"경상권\", \"수도권\", \"경상권\"],\n",
    "   \n",
    "}\n",
    "columns = [\"지역\", \"2015\", \"2010\", \"2005\", \"2000\"]\n",
    "index = [\"서울\", \"부산\", \"인천\", \"대구\"]\n",
    "\n",
    "df = pd.DataFrame(data, index=index, columns=columns)\n",
    "\n",
    "df[\"2010-2015 증가율\"] = ((df[\"2015\"] - df[\"2010\"]) / df[\"2010\"] * 100).round(2)\n",
    "df"
   ]
  },
  {
   "cell_type": "markdown",
   "metadata": {},
   "source": [
    "# 3번"
   ]
  },
  {
   "cell_type": "code",
   "execution_count": 27,
   "metadata": {},
   "outputs": [
    {
     "data": {
      "text/plain": [
       "male      577\n",
       "female    314\n",
       "Name: sex, dtype: int64"
      ]
     },
     "execution_count": 27,
     "metadata": {},
     "output_type": "execute_result"
    }
   ],
   "source": [
    "import seaborn as sns\n",
    "titanic = sns.load_dataset(\"titanic\")\n",
    "\n",
    "#성별 인원수\n",
    "titanic.sex.value_counts()"
   ]
  },
  {
   "cell_type": "code",
   "execution_count": 28,
   "metadata": {},
   "outputs": [
    {
     "data": {
      "text/plain": [
       "1    216\n",
       "2    184\n",
       "3    491\n",
       "Name: pclass, dtype: int64"
      ]
     },
     "execution_count": 28,
     "metadata": {},
     "output_type": "execute_result"
    }
   ],
   "source": [
    "#선실별 인원수\n",
    "titanic.pclass.value_counts().sort_index()"
   ]
  },
  {
   "cell_type": "code",
   "execution_count": 29,
   "metadata": {},
   "outputs": [
    {
     "data": {
      "text/plain": [
       "no     549\n",
       "yes    342\n",
       "Name: alive, dtype: int64"
      ]
     },
     "execution_count": 29,
     "metadata": {},
     "output_type": "execute_result"
    }
   ],
   "source": [
    "#사망/생존 인원수\n",
    "titanic.alive.value_counts()"
   ]
  },
  {
   "cell_type": "code",
   "execution_count": 33,
   "metadata": {},
   "outputs": [
    {
     "data": {
      "text/html": [
       "<div>\n",
       "<style scoped>\n",
       "    .dataframe tbody tr th:only-of-type {\n",
       "        vertical-align: middle;\n",
       "    }\n",
       "\n",
       "    .dataframe tbody tr th {\n",
       "        vertical-align: top;\n",
       "    }\n",
       "\n",
       "    .dataframe thead th {\n",
       "        text-align: right;\n",
       "    }\n",
       "</style>\n",
       "<table border=\"1\" class=\"dataframe\">\n",
       "  <thead>\n",
       "    <tr style=\"text-align: right;\">\n",
       "      <th></th>\n",
       "      <th>survived</th>\n",
       "      <th>pclass</th>\n",
       "      <th>sex</th>\n",
       "      <th>age</th>\n",
       "      <th>sibsp</th>\n",
       "      <th>parch</th>\n",
       "      <th>fare</th>\n",
       "      <th>embarked</th>\n",
       "      <th>class</th>\n",
       "      <th>who</th>\n",
       "      <th>adult_male</th>\n",
       "      <th>deck</th>\n",
       "      <th>embark_town</th>\n",
       "      <th>alive</th>\n",
       "      <th>alone</th>\n",
       "      <th>age_class</th>\n",
       "    </tr>\n",
       "  </thead>\n",
       "  <tbody>\n",
       "    <tr>\n",
       "      <th>886</th>\n",
       "      <td>0</td>\n",
       "      <td>2</td>\n",
       "      <td>male</td>\n",
       "      <td>27.0</td>\n",
       "      <td>0</td>\n",
       "      <td>0</td>\n",
       "      <td>13.00</td>\n",
       "      <td>S</td>\n",
       "      <td>Second</td>\n",
       "      <td>man</td>\n",
       "      <td>True</td>\n",
       "      <td>NaN</td>\n",
       "      <td>Southampton</td>\n",
       "      <td>no</td>\n",
       "      <td>True</td>\n",
       "      <td>청년</td>\n",
       "    </tr>\n",
       "    <tr>\n",
       "      <th>887</th>\n",
       "      <td>1</td>\n",
       "      <td>1</td>\n",
       "      <td>female</td>\n",
       "      <td>19.0</td>\n",
       "      <td>0</td>\n",
       "      <td>0</td>\n",
       "      <td>30.00</td>\n",
       "      <td>S</td>\n",
       "      <td>First</td>\n",
       "      <td>woman</td>\n",
       "      <td>False</td>\n",
       "      <td>B</td>\n",
       "      <td>Southampton</td>\n",
       "      <td>yes</td>\n",
       "      <td>True</td>\n",
       "      <td>청년</td>\n",
       "    </tr>\n",
       "    <tr>\n",
       "      <th>888</th>\n",
       "      <td>0</td>\n",
       "      <td>3</td>\n",
       "      <td>female</td>\n",
       "      <td>NaN</td>\n",
       "      <td>1</td>\n",
       "      <td>2</td>\n",
       "      <td>23.45</td>\n",
       "      <td>S</td>\n",
       "      <td>Third</td>\n",
       "      <td>woman</td>\n",
       "      <td>False</td>\n",
       "      <td>NaN</td>\n",
       "      <td>Southampton</td>\n",
       "      <td>no</td>\n",
       "      <td>False</td>\n",
       "      <td>NaN</td>\n",
       "    </tr>\n",
       "    <tr>\n",
       "      <th>889</th>\n",
       "      <td>1</td>\n",
       "      <td>1</td>\n",
       "      <td>male</td>\n",
       "      <td>26.0</td>\n",
       "      <td>0</td>\n",
       "      <td>0</td>\n",
       "      <td>30.00</td>\n",
       "      <td>C</td>\n",
       "      <td>First</td>\n",
       "      <td>man</td>\n",
       "      <td>True</td>\n",
       "      <td>C</td>\n",
       "      <td>Cherbourg</td>\n",
       "      <td>yes</td>\n",
       "      <td>True</td>\n",
       "      <td>청년</td>\n",
       "    </tr>\n",
       "    <tr>\n",
       "      <th>890</th>\n",
       "      <td>0</td>\n",
       "      <td>3</td>\n",
       "      <td>male</td>\n",
       "      <td>32.0</td>\n",
       "      <td>0</td>\n",
       "      <td>0</td>\n",
       "      <td>7.75</td>\n",
       "      <td>Q</td>\n",
       "      <td>Third</td>\n",
       "      <td>man</td>\n",
       "      <td>True</td>\n",
       "      <td>NaN</td>\n",
       "      <td>Queenstown</td>\n",
       "      <td>no</td>\n",
       "      <td>True</td>\n",
       "      <td>중년</td>\n",
       "    </tr>\n",
       "  </tbody>\n",
       "</table>\n",
       "</div>"
      ],
      "text/plain": [
       "     survived  pclass     sex   age  sibsp  parch   fare embarked   class  \\\n",
       "886         0       2    male  27.0      0      0  13.00        S  Second   \n",
       "887         1       1  female  19.0      0      0  30.00        S   First   \n",
       "888         0       3  female   NaN      1      2  23.45        S   Third   \n",
       "889         1       1    male  26.0      0      0  30.00        C   First   \n",
       "890         0       3    male  32.0      0      0   7.75        Q   Third   \n",
       "\n",
       "       who  adult_male deck  embark_town alive  alone age_class  \n",
       "886    man        True  NaN  Southampton    no   True        청년  \n",
       "887  woman       False    B  Southampton   yes   True        청년  \n",
       "888  woman       False  NaN  Southampton    no  False       NaN  \n",
       "889    man        True    C    Cherbourg   yes   True        청년  \n",
       "890    man        True  NaN   Queenstown    no   True        중년  "
      ]
     },
     "execution_count": 33,
     "metadata": {},
     "output_type": "execute_result"
    }
   ],
   "source": [
    "bins = [1, 15, 30, 45, 60, 99]\n",
    "labels = [\"미성년자\", \"청년\", \"중년\", \"장년\", \"노년\"]\n",
    "\n",
    "titanic_age = pd.cut(titanic[\"age\"], bins, labels = labels)\n",
    "titanic[\"age_class\"] = titanic_age\n",
    "\n",
    "titanic.tail()"
   ]
  },
  {
   "cell_type": "code",
   "execution_count": 42,
   "metadata": {},
   "outputs": [
    {
     "data": {
      "text/plain": [
       "청년      49.53\n",
       "중년      27.49\n",
       "장년      11.37\n",
       "미성년자     7.58\n",
       "노년       4.03\n",
       "Name: age_class, dtype: float64"
      ]
     },
     "execution_count": 42,
     "metadata": {},
     "output_type": "execute_result"
    }
   ],
   "source": [
    "(titanic['age_class'][titanic['survived']==0].value_counts(normalize =True)*100).round(2)"
   ]
  },
  {
   "cell_type": "code",
   "execution_count": 43,
   "metadata": {},
   "outputs": [
    {
     "data": {
      "text/plain": [
       "청년      42.09\n",
       "중년      30.94\n",
       "미성년자    13.31\n",
       "장년      11.87\n",
       "노년       1.80\n",
       "Name: age_class, dtype: float64"
      ]
     },
     "execution_count": 43,
     "metadata": {},
     "output_type": "execute_result"
    }
   ],
   "source": [
    "(titanic['age_class'][titanic['survived']==1].value_counts(normalize =True)*100).round(2)"
   ]
  },
  {
   "cell_type": "markdown",
   "metadata": {},
   "source": [
    "# 4번"
   ]
  },
  {
   "cell_type": "code",
   "execution_count": 45,
   "metadata": {},
   "outputs": [
    {
     "data": {
      "text/html": [
       "<div>\n",
       "<style scoped>\n",
       "    .dataframe tbody tr th:only-of-type {\n",
       "        vertical-align: middle;\n",
       "    }\n",
       "\n",
       "    .dataframe tbody tr th {\n",
       "        vertical-align: top;\n",
       "    }\n",
       "\n",
       "    .dataframe thead th {\n",
       "        text-align: right;\n",
       "    }\n",
       "</style>\n",
       "<table border=\"1\" class=\"dataframe\">\n",
       "  <thead>\n",
       "    <tr style=\"text-align: right;\">\n",
       "      <th></th>\n",
       "      <th>total_bill</th>\n",
       "      <th>tip</th>\n",
       "      <th>sex</th>\n",
       "      <th>smoker</th>\n",
       "      <th>day</th>\n",
       "      <th>time</th>\n",
       "      <th>size</th>\n",
       "      <th>tip_pct</th>\n",
       "    </tr>\n",
       "  </thead>\n",
       "  <tbody>\n",
       "    <tr>\n",
       "      <th>0</th>\n",
       "      <td>16.99</td>\n",
       "      <td>1.01</td>\n",
       "      <td>Female</td>\n",
       "      <td>No</td>\n",
       "      <td>Sun</td>\n",
       "      <td>Dinner</td>\n",
       "      <td>2</td>\n",
       "      <td>0.06</td>\n",
       "    </tr>\n",
       "    <tr>\n",
       "      <th>1</th>\n",
       "      <td>10.34</td>\n",
       "      <td>1.66</td>\n",
       "      <td>Male</td>\n",
       "      <td>No</td>\n",
       "      <td>Sun</td>\n",
       "      <td>Dinner</td>\n",
       "      <td>3</td>\n",
       "      <td>0.16</td>\n",
       "    </tr>\n",
       "    <tr>\n",
       "      <th>2</th>\n",
       "      <td>21.01</td>\n",
       "      <td>3.50</td>\n",
       "      <td>Male</td>\n",
       "      <td>No</td>\n",
       "      <td>Sun</td>\n",
       "      <td>Dinner</td>\n",
       "      <td>3</td>\n",
       "      <td>0.17</td>\n",
       "    </tr>\n",
       "    <tr>\n",
       "      <th>3</th>\n",
       "      <td>23.68</td>\n",
       "      <td>3.31</td>\n",
       "      <td>Male</td>\n",
       "      <td>No</td>\n",
       "      <td>Sun</td>\n",
       "      <td>Dinner</td>\n",
       "      <td>2</td>\n",
       "      <td>0.14</td>\n",
       "    </tr>\n",
       "    <tr>\n",
       "      <th>4</th>\n",
       "      <td>24.59</td>\n",
       "      <td>3.61</td>\n",
       "      <td>Female</td>\n",
       "      <td>No</td>\n",
       "      <td>Sun</td>\n",
       "      <td>Dinner</td>\n",
       "      <td>4</td>\n",
       "      <td>0.15</td>\n",
       "    </tr>\n",
       "  </tbody>\n",
       "</table>\n",
       "</div>"
      ],
      "text/plain": [
       "   total_bill   tip     sex smoker  day    time  size  tip_pct\n",
       "0       16.99  1.01  Female     No  Sun  Dinner     2     0.06\n",
       "1       10.34  1.66    Male     No  Sun  Dinner     3     0.16\n",
       "2       21.01  3.50    Male     No  Sun  Dinner     3     0.17\n",
       "3       23.68  3.31    Male     No  Sun  Dinner     2     0.14\n",
       "4       24.59  3.61  Female     No  Sun  Dinner     4     0.15"
      ]
     },
     "execution_count": 45,
     "metadata": {},
     "output_type": "execute_result"
    }
   ],
   "source": [
    "tips = sns.load_dataset(\"tips\")\n",
    "tips['tip_pct'] = (tips['tip'] / tips['total_bill']).round(2)\n",
    "tips.head()"
   ]
  },
  {
   "cell_type": "code",
   "execution_count": 49,
   "metadata": {},
   "outputs": [
    {
     "data": {
      "text/html": [
       "<div>\n",
       "<style scoped>\n",
       "    .dataframe tbody tr th:only-of-type {\n",
       "        vertical-align: middle;\n",
       "    }\n",
       "\n",
       "    .dataframe tbody tr th {\n",
       "        vertical-align: top;\n",
       "    }\n",
       "\n",
       "    .dataframe thead th {\n",
       "        text-align: right;\n",
       "    }\n",
       "</style>\n",
       "<table border=\"1\" class=\"dataframe\">\n",
       "  <thead>\n",
       "    <tr style=\"text-align: right;\">\n",
       "      <th></th>\n",
       "      <th>tip_pct</th>\n",
       "    </tr>\n",
       "    <tr>\n",
       "      <th>day</th>\n",
       "      <th></th>\n",
       "    </tr>\n",
       "  </thead>\n",
       "  <tbody>\n",
       "    <tr>\n",
       "      <th>Thur</th>\n",
       "      <td>0.16</td>\n",
       "    </tr>\n",
       "    <tr>\n",
       "      <th>Fri</th>\n",
       "      <td>0.17</td>\n",
       "    </tr>\n",
       "    <tr>\n",
       "      <th>Sat</th>\n",
       "      <td>0.15</td>\n",
       "    </tr>\n",
       "    <tr>\n",
       "      <th>Sun</th>\n",
       "      <td>0.17</td>\n",
       "    </tr>\n",
       "  </tbody>\n",
       "</table>\n",
       "</div>"
      ],
      "text/plain": [
       "      tip_pct\n",
       "day          \n",
       "Thur     0.16\n",
       "Fri      0.17\n",
       "Sat      0.15\n",
       "Sun      0.17"
      ]
     },
     "execution_count": 49,
     "metadata": {},
     "output_type": "execute_result"
    }
   ],
   "source": [
    "#금요일과 일요일에 가장 높다.\n",
    "(tips.groupby([\"day\"])[[\"tip_pct\"]].mean()).round(2)"
   ]
  },
  {
   "cell_type": "markdown",
   "metadata": {},
   "source": [
    "# 5번"
   ]
  },
  {
   "cell_type": "code",
   "execution_count": 96,
   "metadata": {},
   "outputs": [],
   "source": [
    "import sqlite3\n",
    "conn = sqlite3.connect(\"./test3.db\") \n",
    "cur = conn.cursor()"
   ]
  },
  {
   "cell_type": "code",
   "execution_count": 97,
   "metadata": {},
   "outputs": [
    {
     "data": {
      "text/plain": [
       "<sqlite3.Cursor at 0xc6aae30>"
      ]
     },
     "execution_count": 97,
     "metadata": {},
     "output_type": "execute_result"
    }
   ],
   "source": [
    "cur.execute('CREATE TABLE IF NOT EXISTS Eagles \\\n",
    "    (back_no INT NOT NULL, \\\n",
    "      name TEXT, \\\n",
    "      position TEXT, \\\n",
    "     PRIMARY KEY(back_no));')"
   ]
  },
  {
   "cell_type": "code",
   "execution_count": 98,
   "metadata": {},
   "outputs": [
    {
     "data": {
      "text/html": [
       "<div>\n",
       "<style scoped>\n",
       "    .dataframe tbody tr th:only-of-type {\n",
       "        vertical-align: middle;\n",
       "    }\n",
       "\n",
       "    .dataframe tbody tr th {\n",
       "        vertical-align: top;\n",
       "    }\n",
       "\n",
       "    .dataframe thead th {\n",
       "        text-align: right;\n",
       "    }\n",
       "</style>\n",
       "<table border=\"1\" class=\"dataframe\">\n",
       "  <thead>\n",
       "    <tr style=\"text-align: right;\">\n",
       "      <th></th>\n",
       "      <th>back_no</th>\n",
       "      <th>name</th>\n",
       "      <th>position</th>\n",
       "    </tr>\n",
       "  </thead>\n",
       "  <tbody>\n",
       "    <tr>\n",
       "      <th>0</th>\n",
       "      <td>7</td>\n",
       "      <td>송광민</td>\n",
       "      <td>내야수</td>\n",
       "    </tr>\n",
       "    <tr>\n",
       "      <th>1</th>\n",
       "      <td>50</td>\n",
       "      <td>이성열</td>\n",
       "      <td>내야수</td>\n",
       "    </tr>\n",
       "    <tr>\n",
       "      <th>2</th>\n",
       "      <td>43</td>\n",
       "      <td>정은원</td>\n",
       "      <td>내야수</td>\n",
       "    </tr>\n",
       "    <tr>\n",
       "      <th>3</th>\n",
       "      <td>8</td>\n",
       "      <td>정근우</td>\n",
       "      <td>내야수</td>\n",
       "    </tr>\n",
       "    <tr>\n",
       "      <th>4</th>\n",
       "      <td>25</td>\n",
       "      <td>최진행</td>\n",
       "      <td>외야수</td>\n",
       "    </tr>\n",
       "  </tbody>\n",
       "</table>\n",
       "</div>"
      ],
      "text/plain": [
       "   back_no name position\n",
       "0        7  송광민      내야수\n",
       "1       50  이성열      내야수\n",
       "2       43  정은원      내야수\n",
       "3        8  정근우      내야수\n",
       "4       25  최진행      외야수"
      ]
     },
     "execution_count": 98,
     "metadata": {},
     "output_type": "execute_result"
    }
   ],
   "source": [
    "b_stats = pd.read_csv('./players.csv', encoding='EUC-KR')\n",
    "b_stats"
   ]
  },
  {
   "cell_type": "code",
   "execution_count": 99,
   "metadata": {
    "scrolled": true
   },
   "outputs": [],
   "source": [
    "cur = conn.cursor()\n",
    "sql = 'INSERT INTO Eagles VALUES (?, ?, ?);'\n",
    "for i in range(5):\n",
    "    cur.execute(sql, (int(b_stats.iloc[i,0]), \n",
    "                      b_stats.iloc[i,1], \n",
    "                      str(b_stats.iloc[i,2])))\n",
    "conn.commit()"
   ]
  },
  {
   "cell_type": "code",
   "execution_count": 100,
   "metadata": {},
   "outputs": [
    {
     "name": "stdout",
     "output_type": "stream",
     "text": [
      "(7, '송광민', '내야수')\n",
      "(50, '이성열', '내야수')\n",
      "(43, '정은원', '내야수')\n",
      "(8, '정근우', '내야수')\n",
      "(25, '최진행', '외야수')\n"
     ]
    }
   ],
   "source": [
    "cur = conn.cursor()\n",
    "cur.execute('SELECT * FROM Eagles')\n",
    "for row in cur:\n",
    "    print(row)"
   ]
  },
  {
   "cell_type": "code",
   "execution_count": 101,
   "metadata": {},
   "outputs": [],
   "source": [
    "cur = conn.cursor()\n",
    "cur.execute(\"UPDATE Eagles SET position='외야수'  WHERE back_no=8;\")\n",
    "conn.commit()"
   ]
  },
  {
   "cell_type": "code",
   "execution_count": 107,
   "metadata": {},
   "outputs": [
    {
     "name": "stdout",
     "output_type": "stream",
     "text": [
      "(50, '이성열', '내야수')\n",
      "(43, '정은원', '내야수')\n",
      "(25, '최진행', '외야수')\n",
      "(8, '정근우', '외야수')\n",
      "(7, '송광민', '내야수')\n"
     ]
    }
   ],
   "source": [
    "cur.execute('SELECT * FROM Eagles ORDER BY back_no DESC LIMIT1') #결과로 튜플이 나온다! \n",
    "rows = cur.fetchall();\n",
    "for row in rows:\n",
    "    print(row)"
   ]
  },
  {
   "cell_type": "code",
   "execution_count": 111,
   "metadata": {},
   "outputs": [],
   "source": [
    "cur = conn.cursor()\n",
    "cur.execute(\"DELETE FROM Eagles WHERE back_no=50;\")\n",
    "conn.commit()"
   ]
  },
  {
   "cell_type": "code",
   "execution_count": null,
   "metadata": {},
   "outputs": [],
   "source": [
    "conn.close()"
   ]
  },
  {
   "cell_type": "markdown",
   "metadata": {},
   "source": [
    "# 6번"
   ]
  },
  {
   "cell_type": "code",
   "execution_count": 179,
   "metadata": {
    "scrolled": true
   },
   "outputs": [
    {
     "data": {
      "image/png": "[encoded data removed]",
      "text/plain": [
       "<Figure size 432x288 with 1 Axes>"
      ]
     },
     "metadata": {
      "needs_background": "light"
     },
     "output_type": "display_data"
    }
   ],
   "source": [
    "import numpy as np\n",
    "import matplotlib.pylab as plt\n",
    "%matplotlib inline\n",
    "def sigmoid(x):\n",
    "    result = 1 / (1 + np.exp(-x))\n",
    "    return result\n",
    "\n",
    "# X=np.linespace(-3,3,601)\n",
    "x = np.arange(-3, 3)\n",
    "y = sigmoid(x)\n",
    "\n",
    "plt.plot(x, y)\n",
    "plt.ylim(-0.1, 1.1)\n",
    "plt.show()"
   ]
  },
  {
   "cell_type": "code",
   "execution_count": 176,
   "metadata": {},
   "outputs": [
    {
     "data": {
      "image/png": "[encoded data removed]",
      "text/plain": [
       "<Figure size 432x288 with 1 Axes>"
      ]
     },
     "metadata": {
      "needs_background": "light"
     },
     "output_type": "display_data"
    }
   ],
   "source": [
    "def der_sigmoid(x):\n",
    "    result2 = sigmoid(x)*(1-sigmoid(x))\n",
    "    return result2\n",
    "              \n",
    "%matplotlib inline\n",
    "x = np.arange(-3, 3)\n",
    "y = der_sigmoid(x)\n",
    "\n",
    "plt.plot(x, y)\n",
    "plt.ylim(-0.1, 1.1)\n",
    "\n",
    "plt.show()"
   ]
  },
  {
   "cell_type": "markdown",
   "metadata": {},
   "source": [
    "# 7번"
   ]
  },
  {
   "cell_type": "markdown",
   "metadata": {},
   "source": [
    "- 경사하강법\n",
    "- 학습률\n",
    "- 퍼셉트론\n",
    "- 렐루\n",
    "- 은닉층"
   ]
  },
  {
   "cell_type": "markdown",
   "metadata": {},
   "source": [
    "# 8번"
   ]
  },
  {
   "cell_type": "markdown",
   "metadata": {},
   "source": [
    "- 25-3\n",
    "- relu-softmax\n",
    "- categorical_crossentropy\n",
    "- epochs=100\n",
    "- Accuracy: 0.9800    "
   ]
  },
  {
   "cell_type": "code",
   "execution_count": 125,
   "metadata": {},
   "outputs": [
    {
     "name": "stderr",
     "output_type": "stream",
     "text": [
      "Using TensorFlow backend.\n"
     ]
    }
   ],
   "source": [
    "from keras.models import Sequential\n",
    "from keras.layers.core import Dense\n",
    "\n",
    "import pandas as pd\n",
    "import seaborn as sns\n",
    "import matplotlib.pyplot as plt\n",
    "import numpy\n",
    "import tensorflow as tf\n",
    "\n",
    "# seed 값 설정\n",
    "seed = 0\n",
    "numpy.random.seed(seed)\n",
    "tf.set_random_seed(seed)\n",
    "\n",
    "df = pd.read_csv('Deep_data/iris.csv', names = [\"sepal_length\", \"sepal_width\", \"petal_length\", \"petal_width\", \"species\"])"
   ]
  },
  {
   "cell_type": "code",
   "execution_count": 126,
   "metadata": {},
   "outputs": [
    {
     "data": {
      "text/plain": [
       "('Iris-setosa', 'Iris-versicolor', 'Iris-virginica')"
      ]
     },
     "execution_count": 126,
     "metadata": {},
     "output_type": "execute_result"
    }
   ],
   "source": [
    "# 데이터 분류\n",
    "dataset = df.values\n",
    "X = dataset[:,0:4].astype(float)\n",
    "Y_obj = dataset[:,4]\n",
    "Y_obj[0], Y_obj[50], Y_obj[100]"
   ]
  },
  {
   "cell_type": "code",
   "execution_count": 127,
   "metadata": {},
   "outputs": [],
   "source": [
    "# 문자열을 숫자로 변환\n",
    "from sklearn.preprocessing import LabelEncoder\n",
    "e = LabelEncoder()\n",
    "e.fit(Y_obj)\n",
    "Y = e.transform(Y_obj)"
   ]
  },
  {
   "cell_type": "code",
   "execution_count": 128,
   "metadata": {},
   "outputs": [
    {
     "data": {
      "text/plain": [
       "array([0, 0, 0, 0, 0, 0, 0, 0, 0, 0, 0, 0, 0, 0, 0, 0, 0, 0, 0, 0, 0, 0,\n",
       "       0, 0, 0, 0, 0, 0, 0, 0, 0, 0, 0, 0, 0, 0, 0, 0, 0, 0, 0, 0, 0, 0,\n",
       "       0, 0, 0, 0, 0, 0, 1, 1, 1, 1, 1, 1, 1, 1, 1, 1, 1, 1, 1, 1, 1, 1,\n",
       "       1, 1, 1, 1, 1, 1, 1, 1, 1, 1, 1, 1, 1, 1, 1, 1, 1, 1, 1, 1, 1, 1,\n",
       "       1, 1, 1, 1, 1, 1, 1, 1, 1, 1, 1, 1, 2, 2, 2, 2, 2, 2, 2, 2, 2, 2,\n",
       "       2, 2, 2, 2, 2, 2, 2, 2, 2, 2, 2, 2, 2, 2, 2, 2, 2, 2, 2, 2, 2, 2,\n",
       "       2, 2, 2, 2, 2, 2, 2, 2, 2, 2, 2, 2, 2, 2, 2, 2, 2, 2])"
      ]
     },
     "execution_count": 128,
     "metadata": {},
     "output_type": "execute_result"
    }
   ],
   "source": [
    "Y"
   ]
  },
  {
   "cell_type": "code",
   "execution_count": 129,
   "metadata": {},
   "outputs": [
    {
     "data": {
      "text/plain": [
       "(array([1., 0., 0.], dtype=float32),\n",
       " array([0., 1., 0.], dtype=float32),\n",
       " array([0., 0., 1.], dtype=float32))"
      ]
     },
     "execution_count": 129,
     "metadata": {},
     "output_type": "execute_result"
    }
   ],
   "source": [
    "#One Hot Incoding\n",
    "from keras.utils import np_utils\n",
    "Y_encoded = np_utils.to_categorical(Y)\n",
    "Y_encoded[0], Y_encoded[50], Y_encoded[100]"
   ]
  },
  {
   "cell_type": "code",
   "execution_count": 135,
   "metadata": {},
   "outputs": [
    {
     "name": "stdout",
     "output_type": "stream",
     "text": [
      "Epoch 1/100\n",
      "150/150 [==============================] - 0s 2ms/step - loss: 1.4748 - acc: 0.3267\n",
      "Epoch 2/100\n",
      "150/150 [==============================] - 0s 533us/step - loss: 0.9096 - acc: 0.5667\n",
      "Epoch 3/100\n",
      "150/150 [==============================] - 0s 540us/step - loss: 0.7152 - acc: 0.6933\n",
      "Epoch 4/100\n",
      "150/150 [==============================] - 0s 553us/step - loss: 0.6019 - acc: 0.7800\n",
      "Epoch 5/100\n",
      "150/150 [==============================] - 0s 553us/step - loss: 0.5346 - acc: 0.7533\n",
      "Epoch 6/100\n",
      "150/150 [==============================] - 0s 560us/step - loss: 0.4882 - acc: 0.7933\n",
      "Epoch 7/100\n",
      "150/150 [==============================] - 0s 553us/step - loss: 0.4432 - acc: 0.7867\n",
      "Epoch 8/100\n",
      "150/150 [==============================] - 0s 540us/step - loss: 0.4218 - acc: 0.8667\n",
      "Epoch 9/100\n",
      "150/150 [==============================] - 0s 553us/step - loss: 0.4071 - acc: 0.8533\n",
      "Epoch 10/100\n",
      "150/150 [==============================] - 0s 553us/step - loss: 0.3822 - acc: 0.9067\n",
      "Epoch 11/100\n",
      "150/150 [==============================] - 0s 553us/step - loss: 0.3643 - acc: 0.8533\n",
      "Epoch 12/100\n",
      "150/150 [==============================] - 0s 547us/step - loss: 0.3530 - acc: 0.9133\n",
      "Epoch 13/100\n",
      "150/150 [==============================] - 0s 553us/step - loss: 0.3394 - acc: 0.9000\n",
      "Epoch 14/100\n",
      "150/150 [==============================] - 0s 553us/step - loss: 0.3078 - acc: 0.9267\n",
      "Epoch 15/100\n",
      "150/150 [==============================] - 0s 553us/step - loss: 0.3052 - acc: 0.9267\n",
      "Epoch 16/100\n",
      "150/150 [==============================] - 0s 547us/step - loss: 0.2828 - acc: 0.9533\n",
      "Epoch 17/100\n",
      "150/150 [==============================] - 0s 540us/step - loss: 0.2748 - acc: 0.9533\n",
      "Epoch 18/100\n",
      "150/150 [==============================] - 0s 547us/step - loss: 0.2599 - acc: 0.9400\n",
      "Epoch 19/100\n",
      "150/150 [==============================] - 0s 547us/step - loss: 0.2507 - acc: 0.9600\n",
      "Epoch 20/100\n",
      "150/150 [==============================] - 0s 553us/step - loss: 0.2341 - acc: 0.9467\n",
      "Epoch 21/100\n",
      "150/150 [==============================] - 0s 547us/step - loss: 0.2278 - acc: 0.9600\n",
      "Epoch 22/100\n",
      "150/150 [==============================] - 0s 547us/step - loss: 0.2127 - acc: 0.9600\n",
      "Epoch 23/100\n",
      "150/150 [==============================] - 0s 533us/step - loss: 0.2033 - acc: 0.9733\n",
      "Epoch 24/100\n",
      "150/150 [==============================] - 0s 553us/step - loss: 0.1967 - acc: 0.9800\n",
      "Epoch 25/100\n",
      "150/150 [==============================] - 0s 553us/step - loss: 0.1878 - acc: 0.9800\n",
      "Epoch 26/100\n",
      "150/150 [==============================] - 0s 553us/step - loss: 0.1829 - acc: 0.9733\n",
      "Epoch 27/100\n",
      "150/150 [==============================] - 0s 547us/step - loss: 0.1797 - acc: 0.9600\n",
      "Epoch 28/100\n",
      "150/150 [==============================] - 0s 547us/step - loss: 0.1673 - acc: 0.9667\n",
      "Epoch 29/100\n",
      "150/150 [==============================] - 0s 540us/step - loss: 0.1656 - acc: 0.9733\n",
      "Epoch 30/100\n",
      "150/150 [==============================] - 0s 547us/step - loss: 0.1498 - acc: 0.9800\n",
      "Epoch 31/100\n",
      "150/150 [==============================] - 0s 533us/step - loss: 0.1537 - acc: 0.9600\n",
      "Epoch 32/100\n",
      "150/150 [==============================] - 0s 547us/step - loss: 0.1459 - acc: 0.9667\n",
      "Epoch 33/100\n",
      "150/150 [==============================] - 0s 533us/step - loss: 0.1385 - acc: 0.9667\n",
      "Epoch 34/100\n",
      "150/150 [==============================] - 0s 540us/step - loss: 0.1409 - acc: 0.9533\n",
      "Epoch 35/100\n",
      "150/150 [==============================] - 0s 540us/step - loss: 0.1377 - acc: 0.9600\n",
      "Epoch 36/100\n",
      "150/150 [==============================] - 0s 560us/step - loss: 0.1330 - acc: 0.9667\n",
      "Epoch 37/100\n",
      "150/150 [==============================] - 0s 540us/step - loss: 0.1320 - acc: 0.9533\n",
      "Epoch 38/100\n",
      "150/150 [==============================] - 0s 567us/step - loss: 0.1185 - acc: 0.9800\n",
      "Epoch 39/100\n",
      "150/150 [==============================] - 0s 573us/step - loss: 0.1279 - acc: 0.9533\n",
      "Epoch 40/100\n",
      "150/150 [==============================] - 0s 560us/step - loss: 0.1211 - acc: 0.9667\n",
      "Epoch 41/100\n",
      "150/150 [==============================] - 0s 520us/step - loss: 0.1218 - acc: 0.9600\n",
      "Epoch 42/100\n",
      "150/150 [==============================] - 0s 527us/step - loss: 0.1205 - acc: 0.9600\n",
      "Epoch 43/100\n",
      "150/150 [==============================] - 0s 527us/step - loss: 0.1153 - acc: 0.9733\n",
      "Epoch 44/100\n",
      "150/150 [==============================] - 0s 547us/step - loss: 0.1117 - acc: 0.9800\n",
      "Epoch 45/100\n",
      "150/150 [==============================] - 0s 573us/step - loss: 0.1041 - acc: 0.9733\n",
      "Epoch 46/100\n",
      "150/150 [==============================] - 0s 560us/step - loss: 0.1022 - acc: 0.9733\n",
      "Epoch 47/100\n",
      "150/150 [==============================] - 0s 540us/step - loss: 0.1020 - acc: 0.9867\n",
      "Epoch 48/100\n",
      "150/150 [==============================] - 0s 547us/step - loss: 0.1018 - acc: 0.9667\n",
      "Epoch 49/100\n",
      "150/150 [==============================] - 0s 547us/step - loss: 0.1094 - acc: 0.9533\n",
      "Epoch 50/100\n",
      "150/150 [==============================] - 0s 540us/step - loss: 0.1010 - acc: 0.9667\n",
      "Epoch 51/100\n",
      "150/150 [==============================] - 0s 560us/step - loss: 0.1009 - acc: 0.9733\n",
      "Epoch 52/100\n",
      "150/150 [==============================] - 0s 553us/step - loss: 0.0969 - acc: 0.9867\n",
      "Epoch 53/100\n",
      "150/150 [==============================] - 0s 567us/step - loss: 0.0942 - acc: 0.9667\n",
      "Epoch 54/100\n",
      "150/150 [==============================] - 0s 600us/step - loss: 0.1077 - acc: 0.9600\n",
      "Epoch 55/100\n",
      "150/150 [==============================] - 0s 553us/step - loss: 0.0932 - acc: 0.9667\n",
      "Epoch 56/100\n",
      "150/150 [==============================] - 0s 567us/step - loss: 0.0857 - acc: 0.9800\n",
      "Epoch 57/100\n",
      "150/150 [==============================] - 0s 553us/step - loss: 0.0891 - acc: 0.9600\n",
      "Epoch 58/100\n",
      "150/150 [==============================] - 0s 547us/step - loss: 0.0945 - acc: 0.9667\n",
      "Epoch 59/100\n",
      "150/150 [==============================] - 0s 553us/step - loss: 0.0922 - acc: 0.9600\n",
      "Epoch 60/100\n",
      "150/150 [==============================] - 0s 547us/step - loss: 0.0924 - acc: 0.9667\n",
      "Epoch 61/100\n",
      "150/150 [==============================] - 0s 540us/step - loss: 0.0890 - acc: 0.9800\n",
      "Epoch 62/100\n",
      "150/150 [==============================] - 0s 531us/step - loss: 0.0901 - acc: 0.9600\n",
      "Epoch 63/100\n",
      "150/150 [==============================] - 0s 533us/step - loss: 0.0840 - acc: 0.9867\n",
      "Epoch 64/100\n",
      "150/150 [==============================] - 0s 547us/step - loss: 0.0827 - acc: 0.9733\n",
      "Epoch 65/100\n",
      "150/150 [==============================] - 0s 527us/step - loss: 0.0841 - acc: 0.9667\n",
      "Epoch 66/100\n",
      "150/150 [==============================] - 0s 533us/step - loss: 0.0893 - acc: 0.9733\n",
      "Epoch 67/100\n",
      "150/150 [==============================] - 0s 533us/step - loss: 0.0778 - acc: 0.9800\n",
      "Epoch 68/100\n",
      "150/150 [==============================] - 0s 533us/step - loss: 0.0848 - acc: 0.9800\n",
      "Epoch 69/100\n",
      "150/150 [==============================] - 0s 477us/step - loss: 0.0817 - acc: 0.9600\n",
      "Epoch 70/100\n",
      "150/150 [==============================] - 0s 604us/step - loss: 0.0854 - acc: 0.9733\n",
      "Epoch 71/100\n",
      "150/150 [==============================] - 0s 527us/step - loss: 0.0740 - acc: 0.9800\n",
      "Epoch 72/100\n",
      "150/150 [==============================] - 0s 540us/step - loss: 0.0834 - acc: 0.9667\n",
      "Epoch 73/100\n",
      "150/150 [==============================] - 0s 527us/step - loss: 0.0789 - acc: 0.9800\n",
      "Epoch 74/100\n",
      "150/150 [==============================] - 0s 547us/step - loss: 0.0798 - acc: 0.9800\n",
      "Epoch 75/100\n",
      "150/150 [==============================] - 0s 527us/step - loss: 0.0760 - acc: 0.9733\n",
      "Epoch 76/100\n",
      "150/150 [==============================] - 0s 553us/step - loss: 0.0731 - acc: 0.9800\n",
      "Epoch 77/100\n",
      "150/150 [==============================] - 0s 553us/step - loss: 0.0758 - acc: 0.9667\n",
      "Epoch 78/100\n",
      "150/150 [==============================] - 0s 533us/step - loss: 0.0786 - acc: 0.9867\n",
      "Epoch 79/100\n",
      "150/150 [==============================] - 0s 540us/step - loss: 0.0747 - acc: 0.9667\n",
      "Epoch 80/100\n",
      "150/150 [==============================] - 0s 520us/step - loss: 0.0779 - acc: 0.9733\n",
      "Epoch 81/100\n",
      "150/150 [==============================] - 0s 547us/step - loss: 0.0676 - acc: 0.9733\n",
      "Epoch 82/100\n",
      "150/150 [==============================] - 0s 520us/step - loss: 0.0785 - acc: 0.9733\n",
      "Epoch 83/100\n",
      "150/150 [==============================] - 0s 527us/step - loss: 0.0732 - acc: 0.9733\n",
      "Epoch 84/100\n",
      "150/150 [==============================] - 0s 527us/step - loss: 0.0746 - acc: 0.9800\n",
      "Epoch 85/100\n",
      "150/150 [==============================] - 0s 553us/step - loss: 0.0678 - acc: 0.9800\n",
      "Epoch 86/100\n",
      "150/150 [==============================] - 0s 553us/step - loss: 0.0680 - acc: 0.9800\n",
      "Epoch 87/100\n",
      "150/150 [==============================] - 0s 553us/step - loss: 0.0770 - acc: 0.9600\n",
      "Epoch 88/100\n",
      "150/150 [==============================] - 0s 533us/step - loss: 0.0860 - acc: 0.9800\n",
      "Epoch 89/100\n",
      "150/150 [==============================] - 0s 540us/step - loss: 0.0713 - acc: 0.9667\n",
      "Epoch 90/100\n",
      "150/150 [==============================] - 0s 533us/step - loss: 0.0761 - acc: 0.9667\n",
      "Epoch 91/100\n",
      "150/150 [==============================] - 0s 560us/step - loss: 0.0801 - acc: 0.9800\n",
      "Epoch 92/100\n",
      "150/150 [==============================] - 0s 573us/step - loss: 0.0742 - acc: 0.9667\n",
      "Epoch 93/100\n",
      "150/150 [==============================] - 0s 553us/step - loss: 0.0676 - acc: 0.9733\n",
      "Epoch 94/100\n",
      "150/150 [==============================] - 0s 533us/step - loss: 0.0801 - acc: 0.9600\n",
      "Epoch 95/100\n",
      "150/150 [==============================] - 0s 547us/step - loss: 0.0714 - acc: 0.9800\n",
      "Epoch 96/100\n",
      "150/150 [==============================] - 0s 547us/step - loss: 0.0706 - acc: 0.9667\n",
      "Epoch 97/100\n",
      "150/150 [==============================] - 0s 547us/step - loss: 0.0731 - acc: 0.9867\n",
      "Epoch 98/100\n",
      "150/150 [==============================] - 0s 533us/step - loss: 0.0677 - acc: 0.9800\n",
      "Epoch 99/100\n",
      "150/150 [==============================] - 0s 540us/step - loss: 0.0700 - acc: 0.9667\n",
      "Epoch 100/100\n",
      "150/150 [==============================] - 0s 540us/step - loss: 0.0698 - acc: 0.9733\n",
      "150/150 [==============================] - 0s 360us/step\n",
      "\n",
      " Accuracy: 0.9800\n"
     ]
    }
   ],
   "source": [
    "# 모델의 설정\n",
    "model = Sequential()\n",
    "model.add(Dense(25,  input_dim=4, activation='relu'))\n",
    "model.add(Dense(3, activation='softmax')) #3개이상 나올땐 softmax\n",
    "\n",
    "# 모델 컴파일\n",
    "model.compile(loss='categorical_crossentropy',\n",
    "            optimizer='adam',\n",
    "            metrics=['accuracy'])\n",
    "\n",
    "# 모델 실행\n",
    "model.fit(X, Y_encoded, epochs=100, batch_size=1)\n",
    "\n",
    "# 결과 출력\n",
    "print(\"\\n Accuracy: %.4f\" % (model.evaluate(X, Y_encoded)[1]))"
   ]
  },
  {
   "cell_type": "markdown",
   "metadata": {},
   "source": [
    "# 9번"
   ]
  },
  {
   "cell_type": "markdown",
   "metadata": {},
   "source": [
    "- 15-8-1\n",
    "- relu-relu-sigmoid\n",
    "- binary_crossentropy\n",
    "- epochs=2\n",
    "- Accuracy: 0.7083"
   ]
  },
  {
   "cell_type": "code",
   "execution_count": 160,
   "metadata": {},
   "outputs": [],
   "source": [
    "from keras.models import Sequential\n",
    "from keras.layers import Dense\n",
    "import tensorflow as tf\n",
    "import pandas as pd\n",
    "import os\n",
    "import numpy\n",
    "# seed 값 생성\n",
    "seed = 0\n",
    "numpy.random.seed(seed)\n",
    "tf.set_random_seed(seed)\n",
    "\n",
    "# 피마 인디언 당뇨병 데이터셋을 불러옵니다. 불러올 때 각 컬럼에 해당하는 이름을 지정합니다.\n",
    "df = pd.read_csv('Deep_data/pima-indians-diabetes.csv',\n",
    "               names = [\"pregnant\", \"plasma\", \"pressure\", \"thickness\", \"insulin\", \"BMI\", \"pedigree\", \"age\", \"class\"])"
   ]
  },
  {
   "cell_type": "code",
   "execution_count": 161,
   "metadata": {},
   "outputs": [
    {
     "data": {
      "text/html": [
       "<div>\n",
       "<style scoped>\n",
       "    .dataframe tbody tr th:only-of-type {\n",
       "        vertical-align: middle;\n",
       "    }\n",
       "\n",
       "    .dataframe tbody tr th {\n",
       "        vertical-align: top;\n",
       "    }\n",
       "\n",
       "    .dataframe thead th {\n",
       "        text-align: right;\n",
       "    }\n",
       "</style>\n",
       "<table border=\"1\" class=\"dataframe\">\n",
       "  <thead>\n",
       "    <tr style=\"text-align: right;\">\n",
       "      <th></th>\n",
       "      <th>pregnant</th>\n",
       "      <th>plasma</th>\n",
       "      <th>pressure</th>\n",
       "      <th>thickness</th>\n",
       "      <th>insulin</th>\n",
       "      <th>BMI</th>\n",
       "      <th>pedigree</th>\n",
       "      <th>age</th>\n",
       "      <th>class</th>\n",
       "    </tr>\n",
       "  </thead>\n",
       "  <tbody>\n",
       "    <tr>\n",
       "      <th>0</th>\n",
       "      <td>6</td>\n",
       "      <td>148</td>\n",
       "      <td>72</td>\n",
       "      <td>35</td>\n",
       "      <td>0</td>\n",
       "      <td>33.6</td>\n",
       "      <td>0.627</td>\n",
       "      <td>50</td>\n",
       "      <td>1</td>\n",
       "    </tr>\n",
       "    <tr>\n",
       "      <th>1</th>\n",
       "      <td>1</td>\n",
       "      <td>85</td>\n",
       "      <td>66</td>\n",
       "      <td>29</td>\n",
       "      <td>0</td>\n",
       "      <td>26.6</td>\n",
       "      <td>0.351</td>\n",
       "      <td>31</td>\n",
       "      <td>0</td>\n",
       "    </tr>\n",
       "    <tr>\n",
       "      <th>2</th>\n",
       "      <td>8</td>\n",
       "      <td>183</td>\n",
       "      <td>64</td>\n",
       "      <td>0</td>\n",
       "      <td>0</td>\n",
       "      <td>23.3</td>\n",
       "      <td>0.672</td>\n",
       "      <td>32</td>\n",
       "      <td>1</td>\n",
       "    </tr>\n",
       "    <tr>\n",
       "      <th>3</th>\n",
       "      <td>1</td>\n",
       "      <td>89</td>\n",
       "      <td>66</td>\n",
       "      <td>23</td>\n",
       "      <td>94</td>\n",
       "      <td>28.1</td>\n",
       "      <td>0.167</td>\n",
       "      <td>21</td>\n",
       "      <td>0</td>\n",
       "    </tr>\n",
       "    <tr>\n",
       "      <th>4</th>\n",
       "      <td>0</td>\n",
       "      <td>137</td>\n",
       "      <td>40</td>\n",
       "      <td>35</td>\n",
       "      <td>168</td>\n",
       "      <td>43.1</td>\n",
       "      <td>2.288</td>\n",
       "      <td>33</td>\n",
       "      <td>1</td>\n",
       "    </tr>\n",
       "  </tbody>\n",
       "</table>\n",
       "</div>"
      ],
      "text/plain": [
       "   pregnant  plasma  pressure  thickness  insulin   BMI  pedigree  age  class\n",
       "0         6     148        72         35        0  33.6     0.627   50      1\n",
       "1         1      85        66         29        0  26.6     0.351   31      0\n",
       "2         8     183        64          0        0  23.3     0.672   32      1\n",
       "3         1      89        66         23       94  28.1     0.167   21      0\n",
       "4         0     137        40         35      168  43.1     2.288   33      1"
      ]
     },
     "execution_count": 161,
     "metadata": {},
     "output_type": "execute_result"
    }
   ],
   "source": [
    "df.head()"
   ]
  },
  {
   "cell_type": "code",
   "execution_count": 163,
   "metadata": {},
   "outputs": [],
   "source": [
    "# seed 값 설정\n",
    "seed = 0\n",
    "numpy.random.seed(seed)\n",
    "tf.set_random_seed(seed)\n",
    "\n",
    "df_pre = pd.read_csv(\"Deep_data/pima-indians-diabetes.csv\", delimiter=\",\")\n",
    "df = df_pre.sample(frac=0.25)\n",
    "\n",
    "dataset = df.values\n",
    "X = dataset[:,0:8]\n",
    "Y = dataset[:,8]\n",
    "\n",
    "from sklearn.model_selection import train_test_split\n",
    "X_train, X_test, Y_train, Y_test = train_test_split(X, Y, test_size=0.25, random_state=seed)"
   ]
  },
  {
   "cell_type": "code",
   "execution_count": 166,
   "metadata": {},
   "outputs": [
    {
     "name": "stdout",
     "output_type": "stream",
     "text": [
      "Epoch 1/200\n",
      "144/144 [==============================] - 0s 3ms/step - loss: 3.5205 - acc: 0.6806\n",
      "Epoch 2/200\n",
      "144/144 [==============================] - 0s 76us/step - loss: 3.3161 - acc: 0.6667\n",
      "Epoch 3/200\n",
      "144/144 [==============================] - 0s 76us/step - loss: 3.1475 - acc: 0.6250\n",
      "Epoch 4/200\n",
      "144/144 [==============================] - 0s 76us/step - loss: 2.7707 - acc: 0.6528\n",
      "Epoch 5/200\n",
      "144/144 [==============================] - 0s 76us/step - loss: 1.8993 - acc: 0.6319\n",
      "Epoch 6/200\n",
      "144/144 [==============================] - 0s 76us/step - loss: 1.1819 - acc: 0.5625\n",
      "Epoch 7/200\n",
      "144/144 [==============================] - 0s 69us/step - loss: 1.0702 - acc: 0.5903\n",
      "Epoch 8/200\n",
      "144/144 [==============================] - 0s 83us/step - loss: 0.9190 - acc: 0.6250\n",
      "Epoch 9/200\n",
      "144/144 [==============================] - 0s 69us/step - loss: 0.8333 - acc: 0.6389\n",
      "Epoch 10/200\n",
      "144/144 [==============================] - 0s 76us/step - loss: 0.7363 - acc: 0.6736\n",
      "Epoch 11/200\n",
      "144/144 [==============================] - 0s 76us/step - loss: 0.7074 - acc: 0.6042\n",
      "Epoch 12/200\n",
      "144/144 [==============================] - 0s 76us/step - loss: 0.6723 - acc: 0.6806\n",
      "Epoch 13/200\n",
      "144/144 [==============================] - 0s 76us/step - loss: 0.6374 - acc: 0.6875\n",
      "Epoch 14/200\n",
      "144/144 [==============================] - 0s 76us/step - loss: 0.6302 - acc: 0.7153\n",
      "Epoch 15/200\n",
      "144/144 [==============================] - 0s 76us/step - loss: 0.6148 - acc: 0.7222\n",
      "Epoch 16/200\n",
      "144/144 [==============================] - 0s 69us/step - loss: 0.6044 - acc: 0.7083\n",
      "Epoch 17/200\n",
      "144/144 [==============================] - 0s 76us/step - loss: 0.6167 - acc: 0.7153\n",
      "Epoch 18/200\n",
      "144/144 [==============================] - 0s 76us/step - loss: 0.5829 - acc: 0.7222\n",
      "Epoch 19/200\n",
      "144/144 [==============================] - 0s 76us/step - loss: 0.5990 - acc: 0.7292\n",
      "Epoch 20/200\n",
      "144/144 [==============================] - 0s 76us/step - loss: 0.5902 - acc: 0.7014\n",
      "Epoch 21/200\n",
      "144/144 [==============================] - 0s 69us/step - loss: 0.5812 - acc: 0.7083\n",
      "Epoch 22/200\n",
      "144/144 [==============================] - 0s 76us/step - loss: 0.5663 - acc: 0.7361\n",
      "Epoch 23/200\n",
      "144/144 [==============================] - 0s 69us/step - loss: 0.5637 - acc: 0.7569\n",
      "Epoch 24/200\n",
      "144/144 [==============================] - 0s 76us/step - loss: 0.5669 - acc: 0.7222\n",
      "Epoch 25/200\n",
      "144/144 [==============================] - 0s 76us/step - loss: 0.5687 - acc: 0.7222\n",
      "Epoch 26/200\n",
      "144/144 [==============================] - 0s 76us/step - loss: 0.5684 - acc: 0.7153\n",
      "Epoch 27/200\n",
      "144/144 [==============================] - 0s 69us/step - loss: 0.5622 - acc: 0.7361\n",
      "Epoch 28/200\n",
      "144/144 [==============================] - 0s 76us/step - loss: 0.5626 - acc: 0.7292\n",
      "Epoch 29/200\n",
      "144/144 [==============================] - 0s 76us/step - loss: 0.5557 - acc: 0.7153\n",
      "Epoch 30/200\n",
      "144/144 [==============================] - 0s 69us/step - loss: 0.5441 - acc: 0.7361\n",
      "Epoch 31/200\n",
      "144/144 [==============================] - 0s 76us/step - loss: 0.5592 - acc: 0.7153\n",
      "Epoch 32/200\n",
      "144/144 [==============================] - 0s 76us/step - loss: 0.5492 - acc: 0.7292\n",
      "Epoch 33/200\n",
      "144/144 [==============================] - 0s 76us/step - loss: 0.5408 - acc: 0.7153\n",
      "Epoch 34/200\n",
      "144/144 [==============================] - 0s 69us/step - loss: 0.5441 - acc: 0.7292\n",
      "Epoch 35/200\n",
      "144/144 [==============================] - 0s 76us/step - loss: 0.5350 - acc: 0.7431\n",
      "Epoch 36/200\n",
      "144/144 [==============================] - 0s 76us/step - loss: 0.5361 - acc: 0.7222\n",
      "Epoch 37/200\n",
      "144/144 [==============================] - 0s 76us/step - loss: 0.5340 - acc: 0.7292\n",
      "Epoch 38/200\n",
      "144/144 [==============================] - 0s 76us/step - loss: 0.5375 - acc: 0.7292\n",
      "Epoch 39/200\n",
      "144/144 [==============================] - 0s 76us/step - loss: 0.5291 - acc: 0.7361\n",
      "Epoch 40/200\n",
      "144/144 [==============================] - 0s 76us/step - loss: 0.5329 - acc: 0.7292\n",
      "Epoch 41/200\n",
      "144/144 [==============================] - 0s 63us/step - loss: 0.5246 - acc: 0.7361\n",
      "Epoch 42/200\n",
      "144/144 [==============================] - 0s 69us/step - loss: 0.5282 - acc: 0.7292\n",
      "Epoch 43/200\n",
      "144/144 [==============================] - 0s 69us/step - loss: 0.5345 - acc: 0.7222\n",
      "Epoch 44/200\n",
      "144/144 [==============================] - 0s 69us/step - loss: 0.5124 - acc: 0.7153\n",
      "Epoch 45/200\n",
      "144/144 [==============================] - 0s 69us/step - loss: 0.5065 - acc: 0.7639\n",
      "Epoch 46/200\n",
      "144/144 [==============================] - 0s 69us/step - loss: 0.4969 - acc: 0.7361\n",
      "Epoch 47/200\n",
      "144/144 [==============================] - 0s 69us/step - loss: 0.4928 - acc: 0.7431\n",
      "Epoch 48/200\n",
      "144/144 [==============================] - 0s 76us/step - loss: 0.4964 - acc: 0.7292\n",
      "Epoch 49/200\n",
      "144/144 [==============================] - 0s 76us/step - loss: 0.4851 - acc: 0.7569\n",
      "Epoch 50/200\n",
      "144/144 [==============================] - 0s 69us/step - loss: 0.4882 - acc: 0.7431\n",
      "Epoch 51/200\n",
      "144/144 [==============================] - 0s 69us/step - loss: 0.5176 - acc: 0.7222\n",
      "Epoch 52/200\n",
      "144/144 [==============================] - ETA: 0s - loss: 0.6477 - acc: 0.800 - 0s 76us/step - loss: 0.4825 - acc: 0.7500\n",
      "Epoch 53/200\n",
      "144/144 [==============================] - 0s 83us/step - loss: 0.4832 - acc: 0.7500\n",
      "Epoch 54/200\n",
      "144/144 [==============================] - 0s 69us/step - loss: 0.4873 - acc: 0.7500\n",
      "Epoch 55/200\n",
      "144/144 [==============================] - 0s 69us/step - loss: 0.4842 - acc: 0.7569\n",
      "Epoch 56/200\n",
      "144/144 [==============================] - 0s 76us/step - loss: 0.4874 - acc: 0.7639\n",
      "Epoch 57/200\n",
      "144/144 [==============================] - 0s 76us/step - loss: 0.4902 - acc: 0.7500\n",
      "Epoch 58/200\n",
      "144/144 [==============================] - 0s 69us/step - loss: 0.4961 - acc: 0.7708\n",
      "Epoch 59/200\n",
      "144/144 [==============================] - 0s 69us/step - loss: 0.4958 - acc: 0.7639\n",
      "Epoch 60/200\n",
      "144/144 [==============================] - 0s 83us/step - loss: 0.4721 - acc: 0.7847\n",
      "Epoch 61/200\n",
      "144/144 [==============================] - 0s 69us/step - loss: 0.4738 - acc: 0.7639\n",
      "Epoch 62/200\n",
      "144/144 [==============================] - 0s 69us/step - loss: 0.4732 - acc: 0.7778\n",
      "Epoch 63/200\n",
      "144/144 [==============================] - 0s 76us/step - loss: 0.4687 - acc: 0.7778\n",
      "Epoch 64/200\n",
      "144/144 [==============================] - 0s 69us/step - loss: 0.4666 - acc: 0.7431\n",
      "Epoch 65/200\n",
      "144/144 [==============================] - 0s 76us/step - loss: 0.4693 - acc: 0.7569\n",
      "Epoch 66/200\n",
      "144/144 [==============================] - 0s 69us/step - loss: 0.4700 - acc: 0.7778\n",
      "Epoch 67/200\n",
      "144/144 [==============================] - 0s 69us/step - loss: 0.4743 - acc: 0.7639\n",
      "Epoch 68/200\n",
      "144/144 [==============================] - 0s 76us/step - loss: 0.4780 - acc: 0.7778\n",
      "Epoch 69/200\n",
      "144/144 [==============================] - 0s 69us/step - loss: 0.4645 - acc: 0.7708\n",
      "Epoch 70/200\n",
      "144/144 [==============================] - 0s 76us/step - loss: 0.4624 - acc: 0.7708\n",
      "Epoch 71/200\n",
      "144/144 [==============================] - 0s 69us/step - loss: 0.4732 - acc: 0.7917\n",
      "Epoch 72/200\n",
      "144/144 [==============================] - 0s 69us/step - loss: 0.4679 - acc: 0.7778\n",
      "Epoch 73/200\n",
      "144/144 [==============================] - 0s 76us/step - loss: 0.4665 - acc: 0.7569\n",
      "Epoch 74/200\n",
      "144/144 [==============================] - 0s 69us/step - loss: 0.4630 - acc: 0.7917\n",
      "Epoch 75/200\n",
      "144/144 [==============================] - 0s 69us/step - loss: 0.4607 - acc: 0.7778\n",
      "Epoch 76/200\n",
      "144/144 [==============================] - 0s 76us/step - loss: 0.4602 - acc: 0.7847\n",
      "Epoch 77/200\n",
      "144/144 [==============================] - 0s 69us/step - loss: 0.4592 - acc: 0.7847\n",
      "Epoch 78/200\n",
      "144/144 [==============================] - 0s 69us/step - loss: 0.4677 - acc: 0.7847\n",
      "Epoch 79/200\n",
      "144/144 [==============================] - 0s 76us/step - loss: 0.4595 - acc: 0.7917\n",
      "Epoch 80/200\n",
      "144/144 [==============================] - 0s 69us/step - loss: 0.4608 - acc: 0.7986\n",
      "Epoch 81/200\n",
      "144/144 [==============================] - 0s 69us/step - loss: 0.4536 - acc: 0.7917\n",
      "Epoch 82/200\n",
      "144/144 [==============================] - 0s 69us/step - loss: 0.4559 - acc: 0.7986\n",
      "Epoch 83/200\n",
      "144/144 [==============================] - 0s 69us/step - loss: 0.4511 - acc: 0.7639\n",
      "Epoch 84/200\n",
      "144/144 [==============================] - 0s 76us/step - loss: 0.4572 - acc: 0.7778\n",
      "Epoch 85/200\n",
      "144/144 [==============================] - 0s 69us/step - loss: 0.4602 - acc: 0.7847\n",
      "Epoch 86/200\n",
      "144/144 [==============================] - 0s 69us/step - loss: 0.4574 - acc: 0.7917\n",
      "Epoch 87/200\n",
      "144/144 [==============================] - 0s 83us/step - loss: 0.4605 - acc: 0.7847\n",
      "Epoch 88/200\n",
      "144/144 [==============================] - 0s 69us/step - loss: 0.4606 - acc: 0.7778\n",
      "Epoch 89/200\n",
      "144/144 [==============================] - 0s 76us/step - loss: 0.4483 - acc: 0.7917\n",
      "Epoch 90/200\n",
      "144/144 [==============================] - 0s 69us/step - loss: 0.4486 - acc: 0.7778\n",
      "Epoch 91/200\n",
      "144/144 [==============================] - 0s 63us/step - loss: 0.4639 - acc: 0.7708\n",
      "Epoch 92/200\n",
      "144/144 [==============================] - 0s 76us/step - loss: 0.4559 - acc: 0.8125\n",
      "Epoch 93/200\n",
      "144/144 [==============================] - 0s 69us/step - loss: 0.4590 - acc: 0.7986\n",
      "Epoch 94/200\n",
      "144/144 [==============================] - 0s 69us/step - loss: 0.4487 - acc: 0.7917\n",
      "Epoch 95/200\n",
      "144/144 [==============================] - 0s 83us/step - loss: 0.4521 - acc: 0.7847\n",
      "Epoch 96/200\n",
      "144/144 [==============================] - 0s 69us/step - loss: 0.4480 - acc: 0.7917\n",
      "Epoch 97/200\n",
      "144/144 [==============================] - 0s 83us/step - loss: 0.4417 - acc: 0.7917\n",
      "Epoch 98/200\n",
      "144/144 [==============================] - 0s 83us/step - loss: 0.4463 - acc: 0.7708\n",
      "Epoch 99/200\n",
      "144/144 [==============================] - 0s 83us/step - loss: 0.4452 - acc: 0.7917\n",
      "Epoch 100/200\n",
      "144/144 [==============================] - 0s 69us/step - loss: 0.4614 - acc: 0.7917\n",
      "Epoch 101/200\n",
      "144/144 [==============================] - 0s 69us/step - loss: 0.4407 - acc: 0.7847\n",
      "Epoch 102/200\n",
      "144/144 [==============================] - 0s 76us/step - loss: 0.4448 - acc: 0.7847\n",
      "Epoch 103/200\n",
      "144/144 [==============================] - 0s 83us/step - loss: 0.4483 - acc: 0.7986\n",
      "Epoch 104/200\n",
      "144/144 [==============================] - 0s 76us/step - loss: 0.4430 - acc: 0.7917\n",
      "Epoch 105/200\n",
      "144/144 [==============================] - 0s 76us/step - loss: 0.4452 - acc: 0.8056\n",
      "Epoch 106/200\n",
      "144/144 [==============================] - 0s 76us/step - loss: 0.4428 - acc: 0.7847\n",
      "Epoch 107/200\n",
      "144/144 [==============================] - 0s 76us/step - loss: 0.4466 - acc: 0.7986\n",
      "Epoch 108/200\n",
      "144/144 [==============================] - 0s 76us/step - loss: 0.4351 - acc: 0.7986\n",
      "Epoch 109/200\n",
      "144/144 [==============================] - 0s 83us/step - loss: 0.4477 - acc: 0.7847\n",
      "Epoch 110/200\n",
      "144/144 [==============================] - 0s 76us/step - loss: 0.4338 - acc: 0.7986\n",
      "Epoch 111/200\n",
      "144/144 [==============================] - 0s 83us/step - loss: 0.4599 - acc: 0.7778\n",
      "Epoch 112/200\n",
      "144/144 [==============================] - 0s 83us/step - loss: 0.4394 - acc: 0.7917\n",
      "Epoch 113/200\n",
      "144/144 [==============================] - 0s 83us/step - loss: 0.4365 - acc: 0.7847\n",
      "Epoch 114/200\n",
      "144/144 [==============================] - 0s 83us/step - loss: 0.4445 - acc: 0.7708\n",
      "Epoch 115/200\n",
      "144/144 [==============================] - 0s 83us/step - loss: 0.4387 - acc: 0.7917\n",
      "Epoch 116/200\n",
      "144/144 [==============================] - 0s 69us/step - loss: 0.4491 - acc: 0.7917\n",
      "Epoch 117/200\n",
      "144/144 [==============================] - 0s 76us/step - loss: 0.4510 - acc: 0.7778\n",
      "Epoch 118/200\n",
      "144/144 [==============================] - 0s 83us/step - loss: 0.4343 - acc: 0.7847\n",
      "Epoch 119/200\n",
      "144/144 [==============================] - 0s 83us/step - loss: 0.4344 - acc: 0.7847\n",
      "Epoch 120/200\n",
      "144/144 [==============================] - 0s 69us/step - loss: 0.4475 - acc: 0.7917\n",
      "Epoch 121/200\n",
      "144/144 [==============================] - 0s 76us/step - loss: 0.4368 - acc: 0.8056\n",
      "Epoch 122/200\n",
      "144/144 [==============================] - 0s 76us/step - loss: 0.4357 - acc: 0.7847\n",
      "Epoch 123/200\n",
      "144/144 [==============================] - 0s 76us/step - loss: 0.4328 - acc: 0.7917\n",
      "Epoch 124/200\n",
      "144/144 [==============================] - 0s 76us/step - loss: 0.4423 - acc: 0.8056\n",
      "Epoch 125/200\n",
      "144/144 [==============================] - 0s 83us/step - loss: 0.4323 - acc: 0.8056\n",
      "Epoch 126/200\n",
      "144/144 [==============================] - 0s 76us/step - loss: 0.4383 - acc: 0.8056\n",
      "Epoch 127/200\n",
      "144/144 [==============================] - 0s 76us/step - loss: 0.4448 - acc: 0.7778\n",
      "Epoch 128/200\n",
      "144/144 [==============================] - 0s 76us/step - loss: 0.4368 - acc: 0.7917\n",
      "Epoch 129/200\n",
      "144/144 [==============================] - 0s 76us/step - loss: 0.4295 - acc: 0.8056\n",
      "Epoch 130/200\n",
      "144/144 [==============================] - 0s 76us/step - loss: 0.4281 - acc: 0.7986\n",
      "Epoch 131/200\n",
      "144/144 [==============================] - 0s 69us/step - loss: 0.4388 - acc: 0.8056\n",
      "Epoch 132/200\n",
      "144/144 [==============================] - 0s 76us/step - loss: 0.4431 - acc: 0.7986\n",
      "Epoch 133/200\n",
      "144/144 [==============================] - 0s 76us/step - loss: 0.4402 - acc: 0.7778\n",
      "Epoch 134/200\n",
      "144/144 [==============================] - 0s 69us/step - loss: 0.4274 - acc: 0.7986\n",
      "Epoch 135/200\n",
      "144/144 [==============================] - 0s 76us/step - loss: 0.4323 - acc: 0.7986\n",
      "Epoch 136/200\n",
      "144/144 [==============================] - 0s 69us/step - loss: 0.4289 - acc: 0.7847\n",
      "Epoch 137/200\n",
      "144/144 [==============================] - 0s 83us/step - loss: 0.4310 - acc: 0.7917\n",
      "Epoch 138/200\n",
      "144/144 [==============================] - 0s 76us/step - loss: 0.4189 - acc: 0.7986\n",
      "Epoch 139/200\n",
      "144/144 [==============================] - 0s 83us/step - loss: 0.4231 - acc: 0.7917\n",
      "Epoch 140/200\n",
      "144/144 [==============================] - 0s 69us/step - loss: 0.4327 - acc: 0.7917\n",
      "Epoch 141/200\n",
      "144/144 [==============================] - 0s 76us/step - loss: 0.4261 - acc: 0.7986\n",
      "Epoch 142/200\n",
      "144/144 [==============================] - 0s 69us/step - loss: 0.4150 - acc: 0.8056\n",
      "Epoch 143/200\n",
      "144/144 [==============================] - 0s 83us/step - loss: 0.4297 - acc: 0.8056\n",
      "Epoch 144/200\n",
      "144/144 [==============================] - 0s 76us/step - loss: 0.4255 - acc: 0.7917\n",
      "Epoch 145/200\n",
      "144/144 [==============================] - 0s 69us/step - loss: 0.4379 - acc: 0.7778\n",
      "Epoch 146/200\n",
      "144/144 [==============================] - 0s 76us/step - loss: 0.4225 - acc: 0.8056\n",
      "Epoch 147/200\n",
      "144/144 [==============================] - 0s 76us/step - loss: 0.4246 - acc: 0.7917\n",
      "Epoch 148/200\n",
      "144/144 [==============================] - 0s 76us/step - loss: 0.4274 - acc: 0.7917\n",
      "Epoch 149/200\n",
      "144/144 [==============================] - 0s 76us/step - loss: 0.4300 - acc: 0.8125\n",
      "Epoch 150/200\n",
      "144/144 [==============================] - 0s 69us/step - loss: 0.4247 - acc: 0.7986\n",
      "Epoch 151/200\n",
      "144/144 [==============================] - 0s 76us/step - loss: 0.4241 - acc: 0.7917\n",
      "Epoch 152/200\n",
      "144/144 [==============================] - 0s 76us/step - loss: 0.4240 - acc: 0.8056\n",
      "Epoch 153/200\n",
      "144/144 [==============================] - 0s 69us/step - loss: 0.4217 - acc: 0.7778\n",
      "Epoch 154/200\n",
      "144/144 [==============================] - 0s 76us/step - loss: 0.4238 - acc: 0.7917\n",
      "Epoch 155/200\n",
      "144/144 [==============================] - 0s 76us/step - loss: 0.4342 - acc: 0.7917\n",
      "Epoch 156/200\n",
      "144/144 [==============================] - 0s 76us/step - loss: 0.4302 - acc: 0.7917\n",
      "Epoch 157/200\n",
      "144/144 [==============================] - 0s 76us/step - loss: 0.4204 - acc: 0.7986\n",
      "Epoch 158/200\n",
      "144/144 [==============================] - 0s 69us/step - loss: 0.4195 - acc: 0.7986\n",
      "Epoch 159/200\n",
      "144/144 [==============================] - 0s 76us/step - loss: 0.4235 - acc: 0.7986\n",
      "Epoch 160/200\n",
      "144/144 [==============================] - 0s 76us/step - loss: 0.4254 - acc: 0.7986\n",
      "Epoch 161/200\n",
      "144/144 [==============================] - 0s 76us/step - loss: 0.4252 - acc: 0.7847\n",
      "Epoch 162/200\n",
      "144/144 [==============================] - 0s 69us/step - loss: 0.4103 - acc: 0.7917\n",
      "Epoch 163/200\n",
      "144/144 [==============================] - ETA: 0s - loss: 0.6599 - acc: 0.800 - 0s 76us/step - loss: 0.4159 - acc: 0.7847\n",
      "Epoch 164/200\n",
      "144/144 [==============================] - 0s 76us/step - loss: 0.4106 - acc: 0.7917\n",
      "Epoch 165/200\n",
      "144/144 [==============================] - 0s 69us/step - loss: 0.4144 - acc: 0.7917\n",
      "Epoch 166/200\n"
     ]
    },
    {
     "name": "stdout",
     "output_type": "stream",
     "text": [
      "144/144 [==============================] - 0s 69us/step - loss: 0.4132 - acc: 0.8056\n",
      "Epoch 167/200\n",
      "144/144 [==============================] - 0s 76us/step - loss: 0.4130 - acc: 0.8125\n",
      "Epoch 168/200\n",
      "144/144 [==============================] - 0s 69us/step - loss: 0.4149 - acc: 0.7847\n",
      "Epoch 169/200\n",
      "144/144 [==============================] - 0s 76us/step - loss: 0.4223 - acc: 0.8056\n",
      "Epoch 170/200\n",
      "144/144 [==============================] - 0s 69us/step - loss: 0.4145 - acc: 0.8056\n",
      "Epoch 171/200\n",
      "144/144 [==============================] - 0s 69us/step - loss: 0.4487 - acc: 0.7778\n",
      "Epoch 172/200\n",
      "144/144 [==============================] - 0s 76us/step - loss: 0.4195 - acc: 0.8264\n",
      "Epoch 173/200\n",
      "144/144 [==============================] - 0s 69us/step - loss: 0.4178 - acc: 0.7917\n",
      "Epoch 174/200\n",
      "144/144 [==============================] - 0s 69us/step - loss: 0.4127 - acc: 0.7847\n",
      "Epoch 175/200\n",
      "144/144 [==============================] - 0s 76us/step - loss: 0.4116 - acc: 0.7917\n",
      "Epoch 176/200\n",
      "144/144 [==============================] - 0s 76us/step - loss: 0.4130 - acc: 0.7778\n",
      "Epoch 177/200\n",
      "144/144 [==============================] - 0s 69us/step - loss: 0.4089 - acc: 0.8194\n",
      "Epoch 178/200\n",
      "144/144 [==============================] - 0s 69us/step - loss: 0.4163 - acc: 0.7917\n",
      "Epoch 179/200\n",
      "144/144 [==============================] - 0s 76us/step - loss: 0.4052 - acc: 0.8056\n",
      "Epoch 180/200\n",
      "144/144 [==============================] - 0s 69us/step - loss: 0.4233 - acc: 0.8056\n",
      "Epoch 181/200\n",
      "144/144 [==============================] - 0s 76us/step - loss: 0.4076 - acc: 0.7847\n",
      "Epoch 182/200\n",
      "144/144 [==============================] - 0s 76us/step - loss: 0.4157 - acc: 0.8125\n",
      "Epoch 183/200\n",
      "144/144 [==============================] - 0s 76us/step - loss: 0.4045 - acc: 0.7917\n",
      "Epoch 184/200\n",
      "144/144 [==============================] - 0s 63us/step - loss: 0.4090 - acc: 0.8056\n",
      "Epoch 185/200\n",
      "144/144 [==============================] - 0s 76us/step - loss: 0.4292 - acc: 0.7639\n",
      "Epoch 186/200\n",
      "144/144 [==============================] - 0s 76us/step - loss: 0.4158 - acc: 0.8056\n",
      "Epoch 187/200\n",
      "144/144 [==============================] - 0s 69us/step - loss: 0.4091 - acc: 0.7986\n",
      "Epoch 188/200\n",
      "144/144 [==============================] - 0s 76us/step - loss: 0.4053 - acc: 0.8194\n",
      "Epoch 189/200\n",
      "144/144 [==============================] - 0s 76us/step - loss: 0.4087 - acc: 0.7986\n",
      "Epoch 190/200\n",
      "144/144 [==============================] - 0s 69us/step - loss: 0.4124 - acc: 0.7917\n",
      "Epoch 191/200\n",
      "144/144 [==============================] - ETA: 0s - loss: 0.2776 - acc: 0.900 - 0s 76us/step - loss: 0.4438 - acc: 0.7847\n",
      "Epoch 192/200\n",
      "144/144 [==============================] - 0s 69us/step - loss: 0.4528 - acc: 0.7708\n",
      "Epoch 193/200\n",
      "144/144 [==============================] - 0s 76us/step - loss: 0.4120 - acc: 0.7986\n",
      "Epoch 194/200\n",
      "144/144 [==============================] - 0s 69us/step - loss: 0.4062 - acc: 0.7917\n",
      "Epoch 195/200\n",
      "144/144 [==============================] - 0s 69us/step - loss: 0.4055 - acc: 0.7986\n",
      "Epoch 196/200\n",
      "144/144 [==============================] - 0s 76us/step - loss: 0.4077 - acc: 0.7778\n",
      "Epoch 197/200\n",
      "144/144 [==============================] - 0s 69us/step - loss: 0.4032 - acc: 0.8056\n",
      "Epoch 198/200\n",
      "144/144 [==============================] - 0s 76us/step - loss: 0.4077 - acc: 0.7986\n",
      "Epoch 199/200\n",
      "144/144 [==============================] - 0s 76us/step - loss: 0.3993 - acc: 0.8056\n",
      "Epoch 200/200\n",
      "144/144 [==============================] - 0s 69us/step - loss: 0.4025 - acc: 0.8056\n",
      "48/48 [==============================] - 0s 2ms/step\n",
      "\n",
      " Accuracy: 0.7083\n"
     ]
    }
   ],
   "source": [
    "# 모델의 설정\n",
    "model = Sequential()\n",
    "model.add(Dense(12, input_dim=8, activation='relu'))\n",
    "model.add(Dense(8, activation='relu'))\n",
    "model.add(Dense(1, activation='sigmoid'))\n",
    "\n",
    "# 모델 컴파일\n",
    "model.compile(loss='binary_crossentropy',\n",
    "             optimizer='adam',\n",
    "             metrics=['accuracy'])\n",
    "# 모델 실행\n",
    "model.fit(X_train, Y_train, epochs=200, batch_size=10)\n",
    "\n",
    "# 결과 출력\n",
    "print(\"\\n Accuracy: %.4f\" % (model.evaluate(X_test, Y_test)[1]))"
   ]
  },
  {
   "cell_type": "code",
   "execution_count": null,
   "metadata": {},
   "outputs": [],
   "source": []
  }
 ],
 "metadata": {
  "kernelspec": {
   "display_name": "Python 3",
   "language": "python",
   "name": "python3"
  },
  "language_info": {
   "codemirror_mode": {
    "name": "ipython",
    "version": 3
   },
   "file_extension": ".py",
   "mimetype": "text/x-python",
   "name": "python",
   "nbconvert_exporter": "python",
   "pygments_lexer": "ipython3",
   "version": "3.7.3"
  }
 },
 "nbformat": 4,
 "nbformat_minor": 2
}
